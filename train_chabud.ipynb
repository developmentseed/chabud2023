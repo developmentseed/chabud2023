{
 "cells": [
  {
   "cell_type": "markdown",
   "id": "c82359ab-bdd3-484e-9bf9-910ad7b2d17d",
   "metadata": {},
   "source": [
    "# Change detection for Burned area Delineation (ChaBuD)\n",
    "\n",
    "Welcome to the ChaBuD repo!\n",
    "Follow the instructions in the [README.md](./README.md)\n",
    "file to get started on running the change detection model."
   ]
  },
  {
   "cell_type": "code",
   "execution_count": null,
   "id": "11094178-9a3d-4f0e-b6e2-b783f49c6bf7",
   "metadata": {
    "tags": []
   },
   "outputs": [],
   "source": [
    "#!python trainer.py test --help"
   ]
  }
 ],
 "metadata": {
  "kernelspec": {
   "display_name": "Python 3 (ipykernel)",
   "language": "python",
   "name": "python3"
  },
  "language_info": {
   "codemirror_mode": {
    "name": "ipython",
    "version": 3
   },
   "file_extension": ".py",
   "mimetype": "text/x-python",
   "name": "python",
   "nbconvert_exporter": "python",
   "pygments_lexer": "ipython3",
   "version": "3.11.3"
  }
 },
 "nbformat": 4,
 "nbformat_minor": 5
}
